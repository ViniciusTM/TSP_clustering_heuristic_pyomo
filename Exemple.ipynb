{
 "cells": [
  {
   "cell_type": "code",
   "execution_count": null,
   "metadata": {},
   "outputs": [],
   "source": [
    "import tsp\n",
    "import pandas as pd\n",
    "from importlib import reload\n",
    "import webbrowser\n",
    "from IPython.display import Image\n",
    "from IPython.core.display import HTML"
   ]
  },
  {
   "cell_type": "code",
   "execution_count": 77,
   "metadata": {
    "scrolled": false
   },
   "outputs": [],
   "source": [
    "reload(tsp)\n",
    "df = pd.read_pickle('data/data2.pkl')\n",
    "model = tsp.TSP(df)\n",
    "#results = {}\n",
    "#solutions = {}"
   ]
  },
  {
   "cell_type": "code",
   "execution_count": 78,
   "metadata": {
    "scrolled": true
   },
   "outputs": [
    {
     "name": "stdout",
     "output_type": "stream",
     "text": [
      "feasible\n",
      "  Signal handler called from  /usr/lib/python3.6/subprocess.py _try_wait 1404\n",
      "  Waiting...\n",
      "  Signaled process 10031 with signal 2\n",
      "ERROR: Solver (glpk) returned non-zero return code (-1)\n",
      "ERROR: Solver log: GLPSOL: GLPK LP/MIP Solver, v4.65 Parameter(s) specified in\n",
      "    the command line:\n",
      "     --tmlim 1800 --write /home/vtm/main/projetos/trab_sequanciamento/routing_\n",
      "         problem/tmp4bpcbowb.glpk.raw --wglp /home/vtm/main/projetos/trab_sequ\n",
      "         anciamento/routing_problem/tmpc7sodm5n.glpk.glp --cpxlp /home/vtm/mai\n",
      "         n/projetos/trab_sequanciamento/routing_problem/tmpqtpr6v1b.pyomo.lp\n",
      "    Reading problem data from '/home/vtm/main/projetos/trab_sequanciamento/rou\n",
      "    ting_problem/tmpqtpr6v1b.pyomo.lp'... /home/vtm/main/projetos/trab_sequanc\n",
      "    iamento/routing_problem/tmpqtpr6v1b.pyomo.lp:56124: warning: lower bound\n",
      "    of variable 'x1' redefined /home/vtm/main/projetos/trab_sequanciamento/rou\n",
      "    ting_problem/tmpqtpr6v1b.pyomo.lp:56124: warning: upper bound of variable\n",
      "    'x1' redefined 10302 rows, 884 columns, 23501 non-zeros 783 integer\n",
      "    variables, all of which are binary 56907 lines were read Writing problem\n",
      "    data to '/home/vtm/main/projetos/trab_sequanciamento/routing_problem/tmpc7\n",
      "    sodm5n.glpk.glp'... 45616 lines were written GLPK Integer Optimizer, v4.65\n",
      "    10302 rows, 884 columns, 23501 non-zeros 783 integer variables, all of\n",
      "    which are binary Preprocessing... 10200 rows, 781 columns, 23197 non-zeros\n",
      "    681 integer variables, all of which are binary Scaling...\n",
      "     A: min|aij| =  1.000e+00  max|aij| =  1.000e+02  ratio =  1.000e+02\n",
      "    GM: min|aij| =  8.276e-01  max|aij| =  1.208e+00  ratio =  1.460e+00 EQ:\n",
      "    min|aij| =  6.983e-01  max|aij| =  1.000e+00  ratio =  1.432e+00 2N:\n",
      "    min|aij| =  5.000e-01  max|aij| =  1.562e+00  ratio =  3.125e+00\n",
      "    Constructing initial basis... Size of triangular part is 10091 Solving LP\n",
      "    relaxation... GLPK Simplex Optimizer, v4.65 10200 rows, 781 columns, 23197\n",
      "    non-zeros\n",
      "          0: obj =   2.013479592e+02 inf =   1.467e+03 (197)\n",
      "        167: obj =   2.096307880e+02 inf =   2.405e-14 (0) 1\n",
      "    *   390: obj =   1.626952341e+02 inf =   4.147e-14 (0) 2 OPTIMAL LP\n",
      "        SOLUTION FOUND Integer optimization begins... Long-step dual simplex\n",
      "        will be used +   390: mip =     not found yet >=              -inf\n",
      "        (1; 0) +  1019: mip =     not found yet >=   1.640804742e+02\n",
      "        (94; 2) +  1602: mip =     not found yet >=   1.659186149e+02\n",
      "        (177; 7) +  2320: mip =     not found yet >=   1.661542205e+02\n",
      "        (290; 11) +  3063: mip =     not found yet >=   1.663490006e+02\n",
      "        (416; 15) +  3790: mip =     not found yet >=   1.667343026e+02\n",
      "        (533; 18) +  4499: mip =     not found yet >=   1.670241909e+02\n",
      "        (653; 21) +  5164: mip =     not found yet >=   1.670936584e+02\n",
      "        (763; 24) +  5810: mip =     not found yet >=   1.672345246e+02\n",
      "        (864; 29) +  6384: mip =     not found yet >=   1.673846377e+02\n",
      "        (970; 34) +  6998: mip =     not found yet >=   1.675043786e+02\n",
      "        (1071; 43) +  7705: mip =     not found yet >=   1.675713571e+02\n",
      "        (1179; 50) Time used: 60.0 secs.  Memory used: 10.2 Mb. +  8302: mip =\n",
      "        not found yet >=   1.676137404e+02        (1283; 56) +  8914: mip =\n",
      "        not found yet >=   1.676451541e+02        (1384; 61) +  9630: mip =\n",
      "        not found yet >=   1.677176825e+02        (1491; 70) + 10318: mip =\n",
      "        not found yet >=   1.677578106e+02        (1602; 75) + 10909: mip =\n",
      "        not found yet >=   1.678000411e+02        (1701; 86) + 11559: mip =\n",
      "        not found yet >=   1.678247890e+02        (1807; 90) + 12190: mip =\n",
      "        not found yet >=   1.678671723e+02        (1904; 98) + 12802: mip =\n",
      "        not found yet >=   1.679197535e+02        (2010; 103) + 13457: mip =\n",
      "        not found yet >=   1.679756917e+02        (2107; 109) + 14277: mip =\n",
      "        not found yet >=   1.680050173e+02        (2245; 114) + 14937: mip =\n",
      "        not found yet >=   1.680259513e+02        (2355; 120) + 15555: mip =\n",
      "        not found yet >=   1.680515449e+02        (2460; 129) Time used: 120.0\n",
      "        secs.  Memory used: 11.3 Mb. + 16215: mip =     not found yet >=\n",
      "        1.680861305e+02        (2566; 137) + 16921: mip =     not found yet >=\n",
      "        1.681111253e+02        (2676; 144) + 17607: mip =     not found yet >=\n",
      "        1.681187377e+02        (2779; 150) + 18173: mip =     not found yet >=\n",
      "        1.681403302e+02        (2866; 157) + 18800: mip =     not found yet >=\n",
      "        1.681917328e+02        (2965; 165) + 19483: mip =     not found yet >=\n",
      "        1.682065937e+02        (3081; 172) + 20076: mip =     not found yet >=\n",
      "        1.682152480e+02        (3185; 176) + 20699: mip =     not found yet >=\n",
      "        1.682306181e+02        (3282; 185) + 21555: mip =     not found yet >=\n",
      "        1.682404824e+02        (3410; 188) + 22308: mip =     not found yet >=\n",
      "        1.682643546e+02        (3521; 195) + 23020: mip =     not found yet >=\n",
      "        1.682731706e+02        (3633; 200) + 23698: mip =     not found yet >=\n",
      "        1.682892544e+02        (3736; 208) Time used: 180.0 secs.  Memory\n",
      "        used: 12.3 Mb. + 24318: mip =     not found yet >=   1.683049768e+02\n",
      "        (3835; 216) + 24908: mip =     not found yet >=   1.683206357e+02\n",
      "        (3926; 223) + 25474: mip =     not found yet >=   1.683426945e+02\n",
      "        (4017; 234) + 26143: mip =     not found yet >=   1.683655189e+02\n",
      "        (4111; 245) + 26905: mip =     not found yet >=   1.683713161e+02\n",
      "        (4238; 248) + 27611: mip =     not found yet >=   1.683809323e+02\n",
      "        (4348; 254) + 28348: mip =     not found yet >=   1.683878375e+02\n",
      "        (4462; 259) + 29150: mip =     not found yet >=   1.683934074e+02\n",
      "        (4585; 263) + 29777: mip =     not found yet >=   1.684013739e+02\n",
      "        (4692; 269) + 30445: mip =     not found yet >=   1.684168798e+02\n",
      "        (4802; 274) + 31104: mip =     not found yet >=   1.684230044e+02\n",
      "        (4906; 280) + 31741: mip =     not found yet >=   1.684293821e+02\n",
      "        (5006; 292) Time used: 240.1 secs.  Memory used: 13.5 Mb. + 32339: mip\n",
      "        =     not found yet >=   1.684591348e+02        (5108; 298) + 33037:\n",
      "        mip =     not found yet >=   1.684600256e+02        (5226; 301) +\n",
      "        33763: mip =     not found yet >=   1.684603939e+02        (5351; 304)\n",
      "        + 34463: mip =     not found yet >=   1.684686800e+02        (5452;\n",
      "        309) + 35113: mip =     not found yet >=   1.684691632e+02\n",
      "        (5569; 313) + 35774: mip =     not found yet >=   1.684876536e+02\n",
      "        (5676; 318) + 36317: mip =     not found yet >=   1.684953703e+02\n",
      "        (5765; 326) + 36947: mip =     not found yet >=   1.685108431e+02\n",
      "        (5860; 335) + 37592: mip =     not found yet >=   1.685341482e+02\n",
      "        (5957; 345) + 38382: mip =     not found yet >=   1.685468947e+02\n",
      "        (6061; 353) + 38868: mip =     not found yet >=   1.685660963e+02\n",
      "        (6149; 364) + 39512: mip =     not found yet >=   1.685712435e+02\n",
      "        (6250; 370) Time used: 300.1 secs.  Memory used: 14.5 Mb. + 40307: mip\n",
      "        =     not found yet >=   1.685771993e+02        (6352; 381) + 40874:\n",
      "        mip =     not found yet >=   1.685855758e+02        (6447; 391) +\n",
      "        41666: mip =     not found yet >=   1.685919562e+02        (6573; 395)\n",
      "        + 42514: mip =     not found yet >=   1.685971999e+02        (6692;\n",
      "        400) + 43153: mip =     not found yet >=   1.686057479e+02\n",
      "        (6794; 407) + 43932: mip =     not found yet >=   1.686107926e+02\n",
      "        (6925; 411) + 44562: mip =     not found yet >=   1.686115323e+02\n",
      "        (7029; 415) + 45498: mip =     not found yet >=   1.686184081e+02\n",
      "        (7177; 419) + 46449: mip =     not found yet >=   1.686220829e+02\n",
      "        (7318; 425) + 47212: mip =     not found yet >=   1.686372446e+02\n",
      "        (7437; 433) + 48063: mip =     not found yet >=   1.686449669e+02\n",
      "        (7569; 439) + 48784: mip =     not found yet >=   1.686548058e+02\n",
      "        (7688; 449) Time used: 360.1 secs.  Memory used: 15.6 Mb. + 49471: mip\n",
      "        =     not found yet >=   1.686610523e+02        (7808; 453) + 50245:\n",
      "        mip =     not found yet >=   1.686672258e+02        (7931; 462) +\n",
      "        51054: mip =     not found yet >=   1.686774395e+02        (8051; 471)\n",
      "        + 51897: mip =     not found yet >=   1.686805181e+02        (8200;\n",
      "        475) + 52501: mip =     not found yet >=   1.686824337e+02\n",
      "        (8319; 481) + 53081: mip =     not found yet >=   1.686876381e+02\n",
      "        (8419; 488)\n"
     ]
    },
    {
     "ename": "ApplicationError",
     "evalue": "Solver (glpk) did not exit normally",
     "output_type": "error",
     "traceback": [
      "\u001b[0;31m---------------------------------------------------------------------------\u001b[0m",
      "\u001b[0;31mApplicationError\u001b[0m                          Traceback (most recent call last)",
      "\u001b[0;32m<ipython-input-78-ce27325b2a31>\u001b[0m in \u001b[0;36m<module>\u001b[0;34m()\u001b[0m\n\u001b[1;32m      1\u001b[0m \u001b[0mn_custer\u001b[0m \u001b[0;34m=\u001b[0m \u001b[0;36m5\u001b[0m\u001b[0;34m\u001b[0m\u001b[0m\n\u001b[0;32m----> 2\u001b[0;31m \u001b[0msol\u001b[0m \u001b[0;34m=\u001b[0m \u001b[0mmodel\u001b[0m\u001b[0;34m.\u001b[0m\u001b[0msolve_with_heuristic\u001b[0m\u001b[0;34m(\u001b[0m\u001b[0mn_cluster\u001b[0m\u001b[0;34m,\u001b[0m \u001b[0mmax_time\u001b[0m\u001b[0;34m=\u001b[0m\u001b[0;36m1800\u001b[0m\u001b[0;34m)\u001b[0m\u001b[0;34m\u001b[0m\u001b[0m\n\u001b[0m\u001b[1;32m      3\u001b[0m \u001b[0;32mif\u001b[0m \u001b[0msol\u001b[0m\u001b[0;34m:\u001b[0m\u001b[0;34m\u001b[0m\u001b[0m\n\u001b[1;32m      4\u001b[0m     \u001b[0mresults\u001b[0m\u001b[0;34m[\u001b[0m\u001b[0mn_cluster\u001b[0m\u001b[0;34m]\u001b[0m \u001b[0;34m=\u001b[0m \u001b[0msol\u001b[0m\u001b[0;34m\u001b[0m\u001b[0m\n\u001b[1;32m      5\u001b[0m     \u001b[0msolutions\u001b[0m\u001b[0;34m[\u001b[0m\u001b[0mn_cluster\u001b[0m\u001b[0;34m]\u001b[0m \u001b[0;34m=\u001b[0m \u001b[0mmodel\u001b[0m\u001b[0;34m.\u001b[0m\u001b[0msolution\u001b[0m\u001b[0;34m\u001b[0m\u001b[0m\n",
      "\u001b[0;32m~/main/projetos/trab_sequanciamento/routing_problem/tsp.py\u001b[0m in \u001b[0;36msolve_with_heuristic\u001b[0;34m(self, num_clusters, method, max_time)\u001b[0m\n\u001b[1;32m     62\u001b[0m         \u001b[0;31m# Solving original problem\u001b[0m\u001b[0;34m\u001b[0m\u001b[0;34m\u001b[0m\u001b[0m\n\u001b[1;32m     63\u001b[0m         \u001b[0mresults\u001b[0m \u001b[0;34m=\u001b[0m \u001b[0mopt\u001b[0m\u001b[0;34m.\u001b[0m\u001b[0msolve\u001b[0m\u001b[0;34m(\u001b[0m\u001b[0mmodel\u001b[0m\u001b[0;34m)\u001b[0m\u001b[0;34m\u001b[0m\u001b[0m\n\u001b[0;32m---> 64\u001b[0;31m         \u001b[0;32mtry\u001b[0m\u001b[0;34m:\u001b[0m\u001b[0;34m\u001b[0m\u001b[0m\n\u001b[0m\u001b[1;32m     65\u001b[0m              \u001b[0mobj_func\u001b[0m \u001b[0;34m=\u001b[0m \u001b[0mpe\u001b[0m\u001b[0;34m.\u001b[0m\u001b[0mvalue\u001b[0m\u001b[0;34m(\u001b[0m\u001b[0mmodel\u001b[0m\u001b[0;34m.\u001b[0m\u001b[0mobj\u001b[0m\u001b[0;34m)\u001b[0m\u001b[0;34m\u001b[0m\u001b[0m\n\u001b[1;32m     66\u001b[0m         \u001b[0;32mexcept\u001b[0m \u001b[0mValueError\u001b[0m\u001b[0;34m:\u001b[0m\u001b[0;34m\u001b[0m\u001b[0m\n",
      "\u001b[0;32m~/.local/lib/python3.6/site-packages/pyomo/opt/base/solvers.py\u001b[0m in \u001b[0;36msolve\u001b[0;34m(self, *args, **kwds)\u001b[0m\n\u001b[1;32m    624\u001b[0m                     \u001b[0mlogger\u001b[0m\u001b[0;34m.\u001b[0m\u001b[0merror\u001b[0m\u001b[0;34m(\u001b[0m\u001b[0;34m\"Solver log:\\n\"\u001b[0m \u001b[0;34m+\u001b[0m \u001b[0mstr\u001b[0m\u001b[0;34m(\u001b[0m\u001b[0m_status\u001b[0m\u001b[0;34m.\u001b[0m\u001b[0mlog\u001b[0m\u001b[0;34m)\u001b[0m\u001b[0;34m)\u001b[0m\u001b[0;34m\u001b[0m\u001b[0m\n\u001b[1;32m    625\u001b[0m                 raise pyutilib.common.ApplicationError(\n\u001b[0;32m--> 626\u001b[0;31m                     \"Solver (%s) did not exit normally\" % self.name)\n\u001b[0m\u001b[1;32m    627\u001b[0m             \u001b[0msolve_completion_time\u001b[0m \u001b[0;34m=\u001b[0m \u001b[0mtime\u001b[0m\u001b[0;34m.\u001b[0m\u001b[0mtime\u001b[0m\u001b[0;34m(\u001b[0m\u001b[0;34m)\u001b[0m\u001b[0;34m\u001b[0m\u001b[0m\n\u001b[1;32m    628\u001b[0m             \u001b[0;32mif\u001b[0m \u001b[0mself\u001b[0m\u001b[0;34m.\u001b[0m\u001b[0m_report_timing\u001b[0m\u001b[0;34m:\u001b[0m\u001b[0;34m\u001b[0m\u001b[0m\n",
      "\u001b[0;31mApplicationError\u001b[0m: Solver (glpk) did not exit normally"
     ]
    }
   ],
   "source": [
    "n_cluster = 5\n",
    "sol = model.solve_with_heuristic(n_cluster, max_time=1800)\n",
    "if sol:\n",
    "    results[n_cluster] = sol\n",
    "    solutions[n_cluster] = model.solution\n",
    "    url = model.make_solution_map()\n",
    "    Image(url)"
   ]
  },
  {
   "cell_type": "code",
   "execution_count": 75,
   "metadata": {},
   "outputs": [
    {
     "name": "stdout",
     "output_type": "stream",
     "text": [
      "feasible\n",
      "\n",
      "- Status: ok\n",
      "  Termination condition: maxTimeLimit\n",
      "  Statistics: \n",
      "    Branch and bound: \n",
      "      Number of bounded subproblems: 0\n",
      "      Number of created subproblems: 0\n",
      "  Error rc: 0\n",
      "  Time: 10.253503799438477\n",
      "\n"
     ]
    },
    {
     "ename": "ValueError",
     "evalue": "No value for uninitialized NumericValue object x[0,0]",
     "output_type": "error",
     "traceback": [
      "\u001b[0;31m---------------------------------------------------------------------------\u001b[0m",
      "\u001b[0;31mValueError\u001b[0m                                Traceback (most recent call last)",
      "\u001b[0;32m<ipython-input-75-ae934b4db193>\u001b[0m in \u001b[0;36m<module>\u001b[0;34m()\u001b[0m\n\u001b[1;32m      1\u001b[0m \u001b[0mn_custer\u001b[0m \u001b[0;34m=\u001b[0m \u001b[0;36m10\u001b[0m\u001b[0;34m\u001b[0m\u001b[0m\n\u001b[0;32m----> 2\u001b[0;31m \u001b[0msol\u001b[0m \u001b[0;34m=\u001b[0m \u001b[0mmodel\u001b[0m\u001b[0;34m.\u001b[0m\u001b[0msolve_with_heuristic\u001b[0m\u001b[0;34m(\u001b[0m\u001b[0mn_cluster\u001b[0m\u001b[0;34m,\u001b[0m \u001b[0mmax_time\u001b[0m\u001b[0;34m=\u001b[0m\u001b[0;36m10\u001b[0m\u001b[0;34m)\u001b[0m\u001b[0;34m\u001b[0m\u001b[0m\n\u001b[0m\u001b[1;32m      3\u001b[0m \u001b[0;31m#if sol:\u001b[0m\u001b[0;34m\u001b[0m\u001b[0;34m\u001b[0m\u001b[0m\n\u001b[1;32m      4\u001b[0m     \u001b[0;31m#results[n_cluster] = sol\u001b[0m\u001b[0;34m\u001b[0m\u001b[0;34m\u001b[0m\u001b[0m\n\u001b[1;32m      5\u001b[0m     \u001b[0;31m#solutions[n_cluster] = model.solution\u001b[0m\u001b[0;34m\u001b[0m\u001b[0;34m\u001b[0m\u001b[0m\n",
      "\u001b[0;32m~/main/projetos/trab_sequanciamento/routing_problem/tsp.py\u001b[0m in \u001b[0;36msolve_with_heuristic\u001b[0;34m(self, num_clusters, method, max_time)\u001b[0m\n\u001b[1;32m     72\u001b[0m         \u001b[0mself\u001b[0m\u001b[0;34m.\u001b[0m\u001b[0msolution\u001b[0m \u001b[0;34m=\u001b[0m \u001b[0;34m[\u001b[0m\u001b[0;34m]\u001b[0m\u001b[0;34m\u001b[0m\u001b[0m\n\u001b[1;32m     73\u001b[0m         \u001b[0;32mfor\u001b[0m \u001b[0midx\u001b[0m \u001b[0;32min\u001b[0m \u001b[0mdistances\u001b[0m\u001b[0;34m.\u001b[0m\u001b[0mkeys\u001b[0m\u001b[0;34m(\u001b[0m\u001b[0;34m)\u001b[0m\u001b[0;34m:\u001b[0m\u001b[0;34m\u001b[0m\u001b[0m\n\u001b[0;32m---> 74\u001b[0;31m             \u001b[0;32mif\u001b[0m \u001b[0mpe\u001b[0m\u001b[0;34m.\u001b[0m\u001b[0mvalue\u001b[0m\u001b[0;34m(\u001b[0m\u001b[0mmodel\u001b[0m\u001b[0;34m.\u001b[0m\u001b[0mx\u001b[0m\u001b[0;34m[\u001b[0m\u001b[0midx\u001b[0m\u001b[0;34m]\u001b[0m\u001b[0;34m)\u001b[0m \u001b[0;34m==\u001b[0m \u001b[0;36m1\u001b[0m\u001b[0;34m:\u001b[0m\u001b[0;34m\u001b[0m\u001b[0m\n\u001b[0m\u001b[1;32m     75\u001b[0m                 \u001b[0mself\u001b[0m\u001b[0;34m.\u001b[0m\u001b[0msolution\u001b[0m\u001b[0;34m.\u001b[0m\u001b[0mappend\u001b[0m\u001b[0;34m(\u001b[0m\u001b[0midx\u001b[0m\u001b[0;34m)\u001b[0m\u001b[0;34m\u001b[0m\u001b[0m\n\u001b[1;32m     76\u001b[0m \u001b[0;34m\u001b[0m\u001b[0m\n",
      "\u001b[0;32m~/.local/lib/python3.6/site-packages/pyomo/core/kernel/numvalue.py\u001b[0m in \u001b[0;36mvalue\u001b[0;34m(obj, exception)\u001b[0m\n\u001b[1;32m    168\u001b[0m     \u001b[0;32mif\u001b[0m \u001b[0mexception\u001b[0m \u001b[0;32mand\u001b[0m \u001b[0;34m(\u001b[0m\u001b[0mtmp\u001b[0m \u001b[0;32mis\u001b[0m \u001b[0;32mNone\u001b[0m\u001b[0;34m)\u001b[0m\u001b[0;34m:\u001b[0m\u001b[0;34m\u001b[0m\u001b[0m\n\u001b[1;32m    169\u001b[0m         raise ValueError(\"No value for uninitialized NumericValue object %s\"\n\u001b[0;32m--> 170\u001b[0;31m                          % (obj.name,))\n\u001b[0m\u001b[1;32m    171\u001b[0m     \u001b[0;32mreturn\u001b[0m \u001b[0mtmp\u001b[0m\u001b[0;34m\u001b[0m\u001b[0m\n\u001b[1;32m    172\u001b[0m \u001b[0;34m\u001b[0m\u001b[0m\n",
      "\u001b[0;31mValueError\u001b[0m: No value for uninitialized NumericValue object x[0,0]"
     ]
    }
   ],
   "source": [
    "n_cluster = 10\n",
    "sol = model.solve_with_heuristic(n_cluster, max_time=1800)\n",
    "if sol:\n",
    "    results[n_cluster] = sol\n",
    "    solutions[n_cluster] = model.solution\n",
    "    url = model.make_solution_map()\n",
    "    Image(url)"
   ]
  },
  {
   "cell_type": "code",
   "execution_count": null,
   "metadata": {},
   "outputs": [],
   "source": [
    "n_cluster = 15\n",
    "sol = model.solve_with_heuristic(n_cluster, max_time=1800)\n",
    "if sol:\n",
    "    results[n_cluster] = sol\n",
    "    solutions[n_cluster] = model.solution\n",
    "    url = model.make_solution_map()\n",
    "    Image(url)"
   ]
  },
  {
   "cell_type": "code",
   "execution_count": null,
   "metadata": {},
   "outputs": [],
   "source": [
    "n_cluster = 20\n",
    "sol = model.solve_with_heuristic(n_cluster, max_time=1800)\n",
    "if sol:\n",
    "    results[n_cluster] = sol\n",
    "    solutions[n_cluster] = model.solution\n",
    "    url = model.make_solution_map()\n",
    "    Image(url)"
   ]
  },
  {
   "cell_type": "code",
   "execution_count": null,
   "metadata": {},
   "outputs": [],
   "source": [
    "n_cluster = 25\n",
    "sol = model.solve_with_heuristic(n_cluster, max_time=1800)\n",
    "if sol:\n",
    "    results[n_cluster] = sol\n",
    "    solutions[n_cluster] = model.solution\n",
    "    url = model.make_solution_map()\n",
    "    Image(url)"
   ]
  },
  {
   "cell_type": "code",
   "execution_count": null,
   "metadata": {},
   "outputs": [],
   "source": [
    "n_cluster = 30\n",
    "sol = model.solve_with_heuristic(n_cluster, max_time=1800)\n",
    "if sol:\n",
    "    results[n_cluster] = sol\n",
    "    solutions[n_cluster] = model.solution\n",
    "    url = model.make_solution_map()\n",
    "    Image(url)"
   ]
  },
  {
   "cell_type": "code",
   "execution_count": null,
   "metadata": {},
   "outputs": [],
   "source": [
    "n_cluster = 35\n",
    "sol = model.solve_with_heuristic(n_cluster, max_time=1800)\n",
    "if sol:\n",
    "    results[n_cluster] = sol\n",
    "    solutions[n_cluster] = model.solution\n",
    "    url = model.make_solution_map()\n",
    "    Image(url)"
   ]
  },
  {
   "cell_type": "code",
   "execution_count": null,
   "metadata": {},
   "outputs": [],
   "source": [
    "n_cluster = 40\n",
    "sol = model.solve_with_heuristic(n_cluster, max_time=1800)\n",
    "if sol:\n",
    "    results[n_cluster] = sol\n",
    "    solutions[n_cluster] = model.solution\n",
    "    url = model.make_solution_map()\n",
    "    Image(url)"
   ]
  },
  {
   "cell_type": "code",
   "execution_count": null,
   "metadata": {},
   "outputs": [],
   "source": [
    "n_cluster = 45\n",
    "sol = model.solve_with_heuristic(n_cluster, max_time=1800)\n",
    "if sol:\n",
    "    results[n_cluster] = sol\n",
    "    solutions[n_cluster] = model.solution\n",
    "    url = model.make_solution_map()\n",
    "    Image(url)"
   ]
  },
  {
   "cell_type": "code",
   "execution_count": null,
   "metadata": {},
   "outputs": [],
   "source": [
    "n_cluster = 50\n",
    "sol = model.solve_with_heuristic(n_cluster, max_time=1800)\n",
    "if sol:\n",
    "    results[n_cluster] = sol\n",
    "    solutions[n_cluster] = model.solution\n",
    "    url = model.make_solution_map()\n",
    "    Image(url)"
   ]
  },
  {
   "cell_type": "code",
   "execution_count": 73,
   "metadata": {},
   "outputs": [
    {
     "ename": "AttributeError",
     "evalue": "'TSP' object has no attribute 'model'",
     "output_type": "error",
     "traceback": [
      "\u001b[0;31m---------------------------------------------------------------------------\u001b[0m",
      "\u001b[0;31mAttributeError\u001b[0m                            Traceback (most recent call last)",
      "\u001b[0;32m<ipython-input-73-b5a7121dce1a>\u001b[0m in \u001b[0;36m<module>\u001b[0;34m()\u001b[0m\n\u001b[1;32m      1\u001b[0m \u001b[0;32mimport\u001b[0m \u001b[0mpyomo\u001b[0m\u001b[0;34m.\u001b[0m\u001b[0menviron\u001b[0m \u001b[0;32mas\u001b[0m \u001b[0mpe\u001b[0m\u001b[0;34m\u001b[0m\u001b[0m\n\u001b[1;32m      2\u001b[0m \u001b[0;34m\u001b[0m\u001b[0m\n\u001b[0;32m----> 3\u001b[0;31m \u001b[0mpe\u001b[0m\u001b[0;34m.\u001b[0m\u001b[0mvalue\u001b[0m\u001b[0;34m(\u001b[0m\u001b[0mmodel\u001b[0m\u001b[0;34m.\u001b[0m\u001b[0mmodel\u001b[0m\u001b[0;34m.\u001b[0m\u001b[0mobj\u001b[0m\u001b[0;34m)\u001b[0m\u001b[0;34m\u001b[0m\u001b[0m\n\u001b[0m",
      "\u001b[0;31mAttributeError\u001b[0m: 'TSP' object has no attribute 'model'"
     ]
    }
   ],
   "source": [
    "import pyomo.environ as pe\n",
    "\n",
    "pe.value(model.model.obj)"
   ]
  }
 ],
 "metadata": {
  "kernelspec": {
   "display_name": "Python 3",
   "language": "python",
   "name": "python3"
  },
  "language_info": {
   "codemirror_mode": {
    "name": "ipython",
    "version": 3
   },
   "file_extension": ".py",
   "mimetype": "text/x-python",
   "name": "python",
   "nbconvert_exporter": "python",
   "pygments_lexer": "ipython3",
   "version": "3.6.5"
  }
 },
 "nbformat": 4,
 "nbformat_minor": 2
}
